{
 "cells": [
  {
   "cell_type": "markdown",
   "metadata": {},
   "source": [
    "# Field-Mappable Tuple List Example"
   ]
  },
  {
   "cell_type": "code",
   "execution_count": 3,
   "metadata": {
    "collapsed": true
   },
   "outputs": [],
   "source": [
    "import fmtl\n",
    "from fmtl.contrib import * #Holds all helper functions"
   ]
  },
  {
   "cell_type": "markdown",
   "metadata": {},
   "source": [
    "Let's create some data: FMTL works on tuple lists."
   ]
  },
  {
   "cell_type": "code",
   "execution_count": 4,
   "metadata": {
    "collapsed": false
   },
   "outputs": [],
   "source": [
    "data = [(\"a\", 1, [\"a\",\"b\"],[[[\"a\",[\"a\",\"b\"]],\"b\"]]), (\"b\", 2, [\"b\",\"a\"],[[[\"a\",\"b\",[\"b\"]],\"b\"]])]\n",
    "rows = (\"letter\",\"num\",\"seq\",\"nested\")"
   ]
  },
  {
   "cell_type": "markdown",
   "metadata": {},
   "source": [
    "## Basics"
   ]
  },
  {
   "cell_type": "markdown",
   "metadata": {},
   "source": [
    "`FMTL(tuplelist,rows=None,checks=None)` rows and checks arguments are mandatory:\n",
    " - rows is for friendly field adressing\n",
    " - checks, if provided, is called at init on each tuple."
   ]
  },
  {
   "cell_type": "code",
   "execution_count": 5,
   "metadata": {
    "collapsed": false
   },
   "outputs": [
    {
     "name": "stdout",
     "output_type": "stream",
     "text": [
      "num is field #1\n"
     ]
    }
   ],
   "source": [
    "tl = fmtl.FMTL(data,rows)\n",
    "print(\"num is field #\"+str(tl.f2i(\"num\")))"
   ]
  },
  {
   "cell_type": "markdown",
   "metadata": {},
   "source": [
    "Fields can be mapped using `tl.set_mapping(field,map_func,unk=None)` using a dictionnary or a function."
   ]
  },
  {
   "cell_type": "code",
   "execution_count": 6,
   "metadata": {
    "collapsed": false
   },
   "outputs": [
    {
     "name": "stdout",
     "output_type": "stream",
     "text": [
      "==> [('Ah', 1, ['a', 'b'], [[['a', ['a', 'b']], 'b']]), ('Bi', 2, ['b', 'a'], [[['a', 'b', ['b']], 'b']])]\n",
      "\n",
      "==> [('Ah', 11, ['a', 'b'], [[['a', ['a', 'b']], 'b']]), ('Bi', 12, ['b', 'a'], [[['a', 'b', ['b']], 'b']])]\n"
     ]
    }
   ],
   "source": [
    "tl.set_mapping(\"letter\",{\"a\":\"Ah\",\"b\":\"Bi\"})\n",
    "print(\"==> \" + str(list(tl)))\n",
    "print()\n",
    "tl.set_mapping(\"num\",lambda x:x+10)\n",
    "print(\"==> \" + str(list(tl)))"
   ]
  },
  {
   "cell_type": "markdown",
   "metadata": {},
   "source": [
    "Dictionnary based mappings are automatically applied to sequences (nested or not)."
   ]
  },
  {
   "cell_type": "code",
   "execution_count": 7,
   "metadata": {
    "collapsed": false
   },
   "outputs": [
    {
     "name": "stdout",
     "output_type": "stream",
     "text": [
      "==> [('Ah', 11, ['Ah', 'Bi'], [[['a', ['a', 'b']], 'b']]), ('Bi', 12, ['Bi', 'Ah'], [[['a', 'b', ['b']], 'b']])]\n",
      "\n",
      "==> [('Ah', 11, ['Ah', 'Bi'], [[['Ah', ['Ah', 'Bi']], 'Bi']]), ('Bi', 12, ['Bi', 'Ah'], [[['Ah', 'Bi', ['Bi']], 'Bi']])]\n"
     ]
    }
   ],
   "source": [
    "tl.set_mapping(\"seq\",{\"a\":\"Ah\",\"b\":\"Bi\"})\n",
    "print(\"==> \" + str(list(tl)))\n",
    "print()\n",
    "tl.set_mapping(\"nested\",{\"a\":\"Ah\",\"b\":\"Bi\"})\n",
    "print(\"==> \" + str(list(tl)))"
   ]
  },
  {
   "cell_type": "markdown",
   "metadata": {},
   "source": [
    "Mapping is done as iteration time in the object's `__get_item__()` method."
   ]
  },
  {
   "cell_type": "code",
   "execution_count": 8,
   "metadata": {
    "collapsed": false
   },
   "outputs": [
    {
     "name": "stdout",
     "output_type": "stream",
     "text": [
      "('a', 1, ['a', 'b'], [[['a', ['a', 'b']], 'b']]) --maps to--> ('Ah', 11, ['Ah', 'Bi'], [[['Ah', ['Ah', 'Bi']], 'Bi']])\n"
     ]
    }
   ],
   "source": [
    "print(str(tl.tuplelist[0])+\" --maps to--> \"+str(tl[0]))"
   ]
  },
  {
   "cell_type": "markdown",
   "metadata": {},
   "source": [
    "You still can prebuild it explicitely, it's just a list after all."
   ]
  },
  {
   "cell_type": "code",
   "execution_count": 9,
   "metadata": {
    "collapsed": false
   },
   "outputs": [
    {
     "name": "stdout",
     "output_type": "stream",
     "text": [
      "[('Ah', 11, ['Ah', 'Bi'], [[['Ah', ['Ah', 'Bi']], 'Bi']]), ('Bi', 12, ['Bi', 'Ah'], [[['Ah', 'Bi', ['Bi']], 'Bi']])]\n"
     ]
    }
   ],
   "source": [
    "builded = list(tl) #if you don't have too much data, else use a generator\n",
    "print(builded)"
   ]
  },
  {
   "cell_type": "markdown",
   "metadata": {},
   "source": [
    "## Useful Helpers (fmtl.contrib)"
   ]
  },
  {
   "cell_type": "markdown",
   "metadata": {},
   "source": [
    "#### Counter Based\n",
    "- get_field_dict(fmtl, field, offset=0, max_count=-1, key_iter=None, iter_func=None): Based on stdlib Counter, returns a dictionnary based on unique values from fields from offset to maxcount. \n",
    "All tuples or tuples[[key_iter]] are used. iter_func is used to iterate values in tuples if they are not atomic/hashable (hashable unit generator)"
   ]
  },
  {
   "cell_type": "code",
   "execution_count": 30,
   "metadata": {
    "collapsed": false
   },
   "outputs": [
    {
     "name": "stdout",
     "output_type": "stream",
     "text": [
      "{'Ah': 0, 'Bi': 1}\n",
      "{'Ah': 2, 'Bi': 3}\n",
      "{'Ah': 0}\n",
      "{'Bi': 0}\n",
      "{'Ah': 0, 'Bi': 1}\n"
     ]
    }
   ],
   "source": [
    "print(get_field_dict(tl,\"letter\"))                                 #classic\n",
    "print(get_field_dict(tl,\"letter\",offset=2))                        #+2 at mapping\n",
    "print(get_field_dict(tl,\"letter\",max_count=1))                     #keeps only 1 item\n",
    "print(get_field_dict(tl,\"letter\",max_count=1,key_iter=[1]))        #keeps only 1 item (but only sees idx [1])\n",
    "print(get_field_dict(tl,\"seq\",iter_func=lambda x: (y for y in x))) #iterate on each field seq."
   ]
  },
  {
   "cell_type": "markdown",
   "metadata": {},
   "source": [
    "- get_stats(fmtl, field, key_iter=None, verbose=False): returns simple stats on a field."
   ]
  },
  {
   "cell_type": "code",
   "execution_count": 28,
   "metadata": {
    "collapsed": false
   },
   "outputs": [
    {
     "data": {
      "text/plain": [
       "({'Ah': 1, 'Bi': 1}, {'Ah': 0.5, 'Bi': 0.5})"
      ]
     },
     "execution_count": 28,
     "metadata": {},
     "output_type": "execute_result"
    }
   ],
   "source": [
    "get_stats(tl,\"letter\")"
   ]
  },
  {
   "cell_type": "markdown",
   "metadata": {},
   "source": [
    "#### Selective iteration:\n",
    "- `indexed_iter(fmtl,idxs)` returns an iterable which iterates `fmtl` tuples using indexs in `idx`"
   ]
  },
  {
   "cell_type": "code",
   "execution_count": 35,
   "metadata": {
    "collapsed": false
   },
   "outputs": [
    {
     "name": "stdout",
     "output_type": "stream",
     "text": [
      "all tuples\n",
      "('Ah', 11, ['Ah', 'Bi'], [[['Ah', ['Ah', 'Bi']], 'Bi']])\n",
      "('Bi', 12, ['Bi', 'Ah'], [[['Ah', 'Bi', ['Bi']], 'Bi']])\n",
      "tuples selected by index\n",
      "('Bi', 12, ['Bi', 'Ah'], [[['Ah', 'Bi', ['Bi']], 'Bi']])\n",
      "('Ah', 11, ['Ah', 'Bi'], [[['Ah', ['Ah', 'Bi']], 'Bi']])\n",
      "('Ah', 11, ['Ah', 'Bi'], [[['Ah', ['Ah', 'Bi']], 'Bi']])\n",
      "('Bi', 12, ['Bi', 'Ah'], [[['Ah', 'Bi', ['Bi']], 'Bi']])\n",
      "('Ah', 11, ['Ah', 'Bi'], [[['Ah', ['Ah', 'Bi']], 'Bi']])\n",
      "('Bi', 12, ['Bi', 'Ah'], [[['Ah', 'Bi', ['Bi']], 'Bi']])\n"
     ]
    }
   ],
   "source": [
    "print(\"all tuples\")\n",
    "for x in tl:\n",
    "    print(x)\n",
    "   \n",
    "print('tuples selected by index')\n",
    "for x in indexed_iter(tl,[1,0,0,1,0,1]):\n",
    "    print(x)"
   ]
  }
 ],
 "metadata": {
  "kernelspec": {
   "display_name": "Python 3",
   "language": "python",
   "name": "python3"
  },
  "language_info": {
   "codemirror_mode": {
    "name": "ipython",
    "version": 3
   },
   "file_extension": ".py",
   "mimetype": "text/x-python",
   "name": "python",
   "nbconvert_exporter": "python",
   "pygments_lexer": "ipython3",
   "version": "3.6.3"
  }
 },
 "nbformat": 4,
 "nbformat_minor": 2
}
