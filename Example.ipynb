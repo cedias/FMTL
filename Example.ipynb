{
 "cells": [
  {
   "cell_type": "markdown",
   "metadata": {},
   "source": [
    "# Field-Mappable Tuple List Example"
   ]
  },
  {
   "cell_type": "code",
   "execution_count": 1,
   "metadata": {
    "collapsed": true
   },
   "outputs": [],
   "source": [
    "import fmtl\n",
    "from fmtl.contrib import * #Holds all helper functions"
   ]
  },
  {
   "cell_type": "markdown",
   "metadata": {},
   "source": [
    "Let's create some data: FMTL works on tuple lists."
   ]
  },
  {
   "cell_type": "code",
   "execution_count": 2,
   "metadata": {
    "collapsed": false
   },
   "outputs": [],
   "source": [
    "data = [(\"a\", 1, [\"a\",\"b\"],[[[\"a\",[\"a\",\"b\"]],\"b\"]]), (\"b\", 2, [\"b\",\"a\"],[[[\"a\",\"b\",[\"b\"]],\"b\"]])]\n",
    "rows = (\"letter\",\"num\",\"seq\",\"nested\")"
   ]
  },
  {
   "cell_type": "markdown",
   "metadata": {},
   "source": [
    "## Basics"
   ]
  },
  {
   "cell_type": "markdown",
   "metadata": {},
   "source": [
    "`FMTL(tuplelist,rows=None,checks=None)` rows and checks arguments are mandatory:\n",
    " - rows is for friendly field adressing\n",
    " - checks, if provided, is called at init on each tuple."
   ]
  },
  {
   "cell_type": "code",
   "execution_count": 3,
   "metadata": {
    "collapsed": false
   },
   "outputs": [
    {
     "name": "stdout",
     "output_type": "stream",
     "text": [
      "num is field #1\n"
     ]
    }
   ],
   "source": [
    "tl = fmtl.FMTL(data,rows)\n",
    "print(\"num is field #\"+str(tl.f2i(\"num\")))"
   ]
  },
  {
   "cell_type": "markdown",
   "metadata": {},
   "source": [
    "Fields can be mapped using `tl.set_mapping(field,map_func,unk=None)` using a dictionnary or a function."
   ]
  },
  {
   "cell_type": "code",
   "execution_count": 4,
   "metadata": {
    "collapsed": false
   },
   "outputs": [
    {
     "name": "stdout",
     "output_type": "stream",
     "text": [
      "==> [('Ah', 1, ['a', 'b'], [[['a', ['a', 'b']], 'b']]), ('Bi', 2, ['b', 'a'], [[['a', 'b', ['b']], 'b']])]\n",
      "\n",
      "==> [('Ah', 11, ['a', 'b'], [[['a', ['a', 'b']], 'b']]), ('Bi', 12, ['b', 'a'], [[['a', 'b', ['b']], 'b']])]\n"
     ]
    }
   ],
   "source": [
    "tl.set_mapping(\"letter\",{\"a\":\"Ah\",\"b\":\"Bi\"})\n",
    "print(\"==> \" + str(list(tl)))\n",
    "print()\n",
    "tl.set_mapping(\"num\",lambda x:x+10)\n",
    "print(\"==> \" + str(list(tl)))"
   ]
  },
  {
   "cell_type": "markdown",
   "metadata": {},
   "source": [
    "Dictionnary based mappings are automatically applied to sequences (nested or not)."
   ]
  },
  {
   "cell_type": "code",
   "execution_count": 5,
   "metadata": {
    "collapsed": false
   },
   "outputs": [
    {
     "name": "stdout",
     "output_type": "stream",
     "text": [
      "==> [('Ah', 11, ['Ah', 'Bi'], [[['a', ['a', 'b']], 'b']]), ('Bi', 12, ['Bi', 'Ah'], [[['a', 'b', ['b']], 'b']])]\n",
      "\n",
      "==> [('Ah', 11, ['Ah', 'Bi'], [[['Ah', ['Ah', 'Bi']], 'Bi']]), ('Bi', 12, ['Bi', 'Ah'], [[['Ah', 'Bi', ['Bi']], 'Bi']])]\n"
     ]
    }
   ],
   "source": [
    "tl.set_mapping(\"seq\",{\"a\":\"Ah\",\"b\":\"Bi\"})\n",
    "print(\"==> \" + str(list(tl)))\n",
    "print()\n",
    "tl.set_mapping(\"nested\",{\"a\":\"Ah\",\"b\":\"Bi\"})\n",
    "print(\"==> \" + str(list(tl)))"
   ]
  },
  {
   "cell_type": "markdown",
   "metadata": {},
   "source": [
    "Mapping is done as iteration time in the object's `__get_item__()` method."
   ]
  },
  {
   "cell_type": "code",
   "execution_count": 16,
   "metadata": {
    "collapsed": false
   },
   "outputs": [
    {
     "name": "stdout",
     "output_type": "stream",
     "text": [
      "('a', 1, ['a', 'b'], [[['a', ['a', 'b']], 'b']]) --maps to--> ('Ah', 11, ['Ah', 'Bi'], [[['Ah', ['Ah', 'Bi']], 'Bi']])\n"
     ]
    }
   ],
   "source": [
    "print(str(tl.tuplelist[0])+\" --maps to--> \"+str(tl[0]))"
   ]
  },
  {
   "cell_type": "markdown",
   "metadata": {},
   "source": [
    "You still can prebuild it explicitely, it's just a list after all."
   ]
  },
  {
   "cell_type": "code",
   "execution_count": 20,
   "metadata": {
    "collapsed": false
   },
   "outputs": [
    {
     "name": "stdout",
     "output_type": "stream",
     "text": [
      "[('Ah', 11, ['Ah', 'Bi'], [[['Ah', ['Ah', 'Bi']], 'Bi']]), ('Bi', 12, ['Bi', 'Ah'], [[['Ah', 'Bi', ['Bi']], 'Bi']])]\n"
     ]
    }
   ],
   "source": [
    "builded = list(tl) #if you don't have too much data, else use a generator\n",
    "print(builded)"
   ]
  },
  {
   "cell_type": "markdown",
   "metadata": {},
   "source": [
    "## Useful Helpers"
   ]
  },
  {
   "cell_type": "code",
   "execution_count": null,
   "metadata": {
    "collapsed": true
   },
   "outputs": [],
   "source": [
    "#todo: see contrib.py for existing function details:\n",
    "# -> indexed_iter(fmtl,idxs)\n",
    "# -> get_stats(fmtl, field, key_iter=None, verbose=False)\n",
    "# -> get_field_dict(fmtl, field, offset=0, max_count=-1, key_iter=None, iter_func=None)"
   ]
  }
 ],
 "metadata": {
  "kernelspec": {
   "display_name": "Python 3",
   "language": "python",
   "name": "python3"
  },
  "language_info": {
   "codemirror_mode": {
    "name": "ipython",
    "version": 3
   },
   "file_extension": ".py",
   "mimetype": "text/x-python",
   "name": "python",
   "nbconvert_exporter": "python",
   "pygments_lexer": "ipython3",
   "version": "3.6.3"
  }
 },
 "nbformat": 4,
 "nbformat_minor": 2
}
